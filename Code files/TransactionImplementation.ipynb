{
  "cells": [
    {
      "cell_type": "markdown",
      "source": [
        "# Bitcoin Trust Network"
      ],
      "metadata": {
        "id": "qkrr9cjpWDEm"
      },
      "id": "qkrr9cjpWDEm"
    },
    {
      "cell_type": "markdown",
      "source": [
        "\n",
        "\n",
        "---\n",
        "\n",
        "\n"
      ],
      "metadata": {
        "id": "xi71hjSlWF-6"
      },
      "id": "xi71hjSlWF-6"
    },
    {
      "cell_type": "markdown",
      "source": [
        "**Team members**\n",
        "               \n",
        "\n",
        "1.   Akash\n",
        "2.   Ashwin\n",
        "3.   BalaBharatRaaj\n",
        "4.   Udhaykumaran\n",
        "5.   Sruthi\n",
        "\n",
        "\n",
        "\n"
      ],
      "metadata": {
        "id": "UIullW8FUCqY"
      },
      "id": "UIullW8FUCqY"
    },
    {
      "cell_type": "markdown",
      "source": [
        "##Goodness and Fairness algorithm"
      ],
      "metadata": {
        "id": "7_I6dD2yRZcZ"
      },
      "id": "7_I6dD2yRZcZ"
    },
    {
      "cell_type": "code",
      "execution_count": null,
      "id": "f3b14959-4006-4dc9-b20c-4a5c5a4ec38b",
      "metadata": {
        "id": "f3b14959-4006-4dc9-b20c-4a5c5a4ec38b"
      },
      "outputs": [],
      "source": [
        "import networkx as nx\n",
        "import random\n",
        "import math\n",
        "import pandas as pd\n",
        "import matplotlib.pyplot as plt"
      ]
    },
    {
      "cell_type": "code",
      "execution_count": null,
      "id": "c431b97b-840c-4b4c-896f-62ca3310efbe",
      "metadata": {
        "id": "c431b97b-840c-4b4c-896f-62ca3310efbe"
      },
      "outputs": [],
      "source": [
        "#function to initialize the fairness and goodness scores of each nodes\n",
        "def initialize_scores(G):\n",
        "    fairness = {}\n",
        "    goodness = {}\n",
        "    \n",
        "    nodes = G.nodes()\n",
        "    for node in nodes:\n",
        "        fairness[node] = 1\n",
        "        try:\n",
        "            goodness[node] = G.in_degree(node, weight='weight')*1.0/G.in_degree(node)\n",
        "        except:\n",
        "            goodness[node] = 0\n",
        "    return fairness, goodness"
      ]
    },
    {
      "cell_type": "code",
      "execution_count": null,
      "id": "6f8e0658-2657-43b9-bb41-20ec4e58fbca",
      "metadata": {
        "id": "6f8e0658-2657-43b9-bb41-20ec4e58fbca"
      },
      "outputs": [],
      "source": [
        "#function to compute the fairness and Goodness scores\n",
        "def compute_fairness_goodness(G):\n",
        "    fairness, goodness = initialize_scores(G)\n",
        "    \n",
        "    nodes = G.nodes()\n",
        "    iter = 0\n",
        "    print(len(nodes))\n",
        "\n",
        "    #Running the loop for 100 epochs\n",
        "    while iter < 100:\n",
        "        df = 0\n",
        "        dg = 0\n",
        "\n",
        "        #updating the goodness score and difference in goodness score\n",
        "        for node in nodes:\n",
        "            inedges = G.in_edges(node, data='weight')\n",
        "            g = 0\n",
        "            for edge in inedges:\n",
        "                g += fairness[edge[0]]*edge[2]\n",
        "\n",
        "            try:\n",
        "                dg += abs(g/len(inedges) - goodness[node])\n",
        "                goodness[node] = g/len(inedges)\n",
        "            except:\n",
        "                pass\n",
        "\n",
        "        #updating the fairness score and difference in fairness score\n",
        "        for node in nodes:\n",
        "            outedges = G.out_edges(node, data='weight')\n",
        "            f = 0\n",
        "            for edge in outedges:\n",
        "                f += 1.0 - abs(edge[2] - goodness[edge[1]])/2.0\n",
        "            try:\n",
        "                df += abs(f/len(outedges) - fairness[node])\n",
        "                fairness[node] = f/len(outedges)\n",
        "            except:\n",
        "                pass\n",
        "        \n",
        "        print('Differences in fairness score and goodness score = %.2f, %.2f' % (df, dg))\n",
        "\n",
        "        #if both the difference in goodness and fairness score is below a certaing threshold stop the loop\n",
        "\n",
        "        if df < math.pow(10, -6) and dg < math.pow(10, -6):     ##threshold here is 10^-6\n",
        "            break\n",
        "        iter+=1\n",
        "    \n",
        "    return fairness, goodness"
      ]
    },
    {
      "cell_type": "code",
      "execution_count": null,
      "id": "f95e7f53-2d62-4e95-9512-a7b10b2bbb21",
      "metadata": {
        "id": "f95e7f53-2d62-4e95-9512-a7b10b2bbb21"
      },
      "outputs": [],
      "source": [
        "G = nx.DiGraph()"
      ]
    },
    {
      "cell_type": "code",
      "execution_count": null,
      "id": "d58be5df-507b-48b1-831b-60eb342ba1d7",
      "metadata": {
        "id": "d58be5df-507b-48b1-831b-60eb342ba1d7"
      },
      "outputs": [],
      "source": [
        "df = pd.read_csv('Bitcoin_OTC.csv')"
      ]
    },
    {
      "cell_type": "code",
      "execution_count": null,
      "id": "7a4b91a9-6bcf-46f2-925b-c62312b90294",
      "metadata": {
        "colab": {
          "base_uri": "https://localhost:8080/",
          "height": 206
        },
        "id": "7a4b91a9-6bcf-46f2-925b-c62312b90294",
        "outputId": "480526c7-95ff-4478-ceef-b2d1ded290c1"
      },
      "outputs": [
        {
          "output_type": "execute_result",
          "data": {
            "text/plain": [
              "   Source  Target  Weight   Timestamp\n",
              "0       6       2      15  1289241912\n",
              "1       6       5      13  1289241942\n",
              "2       1      15      12  1289243140\n",
              "3       4       3      18  1289245277\n",
              "4      13      16      19  1289254254"
            ],
            "text/html": [
              "\n",
              "  <div id=\"df-2157c27e-6b0e-421b-bdb4-d0d266969115\">\n",
              "    <div class=\"colab-df-container\">\n",
              "      <div>\n",
              "<style scoped>\n",
              "    .dataframe tbody tr th:only-of-type {\n",
              "        vertical-align: middle;\n",
              "    }\n",
              "\n",
              "    .dataframe tbody tr th {\n",
              "        vertical-align: top;\n",
              "    }\n",
              "\n",
              "    .dataframe thead th {\n",
              "        text-align: right;\n",
              "    }\n",
              "</style>\n",
              "<table border=\"1\" class=\"dataframe\">\n",
              "  <thead>\n",
              "    <tr style=\"text-align: right;\">\n",
              "      <th></th>\n",
              "      <th>Source</th>\n",
              "      <th>Target</th>\n",
              "      <th>Weight</th>\n",
              "      <th>Timestamp</th>\n",
              "    </tr>\n",
              "  </thead>\n",
              "  <tbody>\n",
              "    <tr>\n",
              "      <th>0</th>\n",
              "      <td>6</td>\n",
              "      <td>2</td>\n",
              "      <td>15</td>\n",
              "      <td>1289241912</td>\n",
              "    </tr>\n",
              "    <tr>\n",
              "      <th>1</th>\n",
              "      <td>6</td>\n",
              "      <td>5</td>\n",
              "      <td>13</td>\n",
              "      <td>1289241942</td>\n",
              "    </tr>\n",
              "    <tr>\n",
              "      <th>2</th>\n",
              "      <td>1</td>\n",
              "      <td>15</td>\n",
              "      <td>12</td>\n",
              "      <td>1289243140</td>\n",
              "    </tr>\n",
              "    <tr>\n",
              "      <th>3</th>\n",
              "      <td>4</td>\n",
              "      <td>3</td>\n",
              "      <td>18</td>\n",
              "      <td>1289245277</td>\n",
              "    </tr>\n",
              "    <tr>\n",
              "      <th>4</th>\n",
              "      <td>13</td>\n",
              "      <td>16</td>\n",
              "      <td>19</td>\n",
              "      <td>1289254254</td>\n",
              "    </tr>\n",
              "  </tbody>\n",
              "</table>\n",
              "</div>\n",
              "      <button class=\"colab-df-convert\" onclick=\"convertToInteractive('df-2157c27e-6b0e-421b-bdb4-d0d266969115')\"\n",
              "              title=\"Convert this dataframe to an interactive table.\"\n",
              "              style=\"display:none;\">\n",
              "        \n",
              "  <svg xmlns=\"http://www.w3.org/2000/svg\" height=\"24px\"viewBox=\"0 0 24 24\"\n",
              "       width=\"24px\">\n",
              "    <path d=\"M0 0h24v24H0V0z\" fill=\"none\"/>\n",
              "    <path d=\"M18.56 5.44l.94 2.06.94-2.06 2.06-.94-2.06-.94-.94-2.06-.94 2.06-2.06.94zm-11 1L8.5 8.5l.94-2.06 2.06-.94-2.06-.94L8.5 2.5l-.94 2.06-2.06.94zm10 10l.94 2.06.94-2.06 2.06-.94-2.06-.94-.94-2.06-.94 2.06-2.06.94z\"/><path d=\"M17.41 7.96l-1.37-1.37c-.4-.4-.92-.59-1.43-.59-.52 0-1.04.2-1.43.59L10.3 9.45l-7.72 7.72c-.78.78-.78 2.05 0 2.83L4 21.41c.39.39.9.59 1.41.59.51 0 1.02-.2 1.41-.59l7.78-7.78 2.81-2.81c.8-.78.8-2.07 0-2.86zM5.41 20L4 18.59l7.72-7.72 1.47 1.35L5.41 20z\"/>\n",
              "  </svg>\n",
              "      </button>\n",
              "      \n",
              "  <style>\n",
              "    .colab-df-container {\n",
              "      display:flex;\n",
              "      flex-wrap:wrap;\n",
              "      gap: 12px;\n",
              "    }\n",
              "\n",
              "    .colab-df-convert {\n",
              "      background-color: #E8F0FE;\n",
              "      border: none;\n",
              "      border-radius: 50%;\n",
              "      cursor: pointer;\n",
              "      display: none;\n",
              "      fill: #1967D2;\n",
              "      height: 32px;\n",
              "      padding: 0 0 0 0;\n",
              "      width: 32px;\n",
              "    }\n",
              "\n",
              "    .colab-df-convert:hover {\n",
              "      background-color: #E2EBFA;\n",
              "      box-shadow: 0px 1px 2px rgba(60, 64, 67, 0.3), 0px 1px 3px 1px rgba(60, 64, 67, 0.15);\n",
              "      fill: #174EA6;\n",
              "    }\n",
              "\n",
              "    [theme=dark] .colab-df-convert {\n",
              "      background-color: #3B4455;\n",
              "      fill: #D2E3FC;\n",
              "    }\n",
              "\n",
              "    [theme=dark] .colab-df-convert:hover {\n",
              "      background-color: #434B5C;\n",
              "      box-shadow: 0px 1px 3px 1px rgba(0, 0, 0, 0.15);\n",
              "      filter: drop-shadow(0px 1px 2px rgba(0, 0, 0, 0.3));\n",
              "      fill: #FFFFFF;\n",
              "    }\n",
              "  </style>\n",
              "\n",
              "      <script>\n",
              "        const buttonEl =\n",
              "          document.querySelector('#df-2157c27e-6b0e-421b-bdb4-d0d266969115 button.colab-df-convert');\n",
              "        buttonEl.style.display =\n",
              "          google.colab.kernel.accessAllowed ? 'block' : 'none';\n",
              "\n",
              "        async function convertToInteractive(key) {\n",
              "          const element = document.querySelector('#df-2157c27e-6b0e-421b-bdb4-d0d266969115');\n",
              "          const dataTable =\n",
              "            await google.colab.kernel.invokeFunction('convertToInteractive',\n",
              "                                                     [key], {});\n",
              "          if (!dataTable) return;\n",
              "\n",
              "          const docLinkHtml = 'Like what you see? Visit the ' +\n",
              "            '<a target=\"_blank\" href=https://colab.research.google.com/notebooks/data_table.ipynb>data table notebook</a>'\n",
              "            + ' to learn more about interactive tables.';\n",
              "          element.innerHTML = '';\n",
              "          dataTable['output_type'] = 'display_data';\n",
              "          await google.colab.output.renderOutput(dataTable, element);\n",
              "          const docLink = document.createElement('div');\n",
              "          docLink.innerHTML = docLinkHtml;\n",
              "          element.appendChild(docLink);\n",
              "        }\n",
              "      </script>\n",
              "    </div>\n",
              "  </div>\n",
              "  "
            ]
          },
          "metadata": {},
          "execution_count": 14
        }
      ],
      "source": [
        "df.head(5)"
      ]
    },
    {
      "cell_type": "code",
      "execution_count": null,
      "id": "c187949e-bd4f-4df8-bca3-21d44d980a3e",
      "metadata": {
        "colab": {
          "base_uri": "https://localhost:8080/",
          "height": 206
        },
        "id": "c187949e-bd4f-4df8-bca3-21d44d980a3e",
        "outputId": "ffa44fc6-9383-49c4-9432-e258575575cb"
      },
      "outputs": [
        {
          "output_type": "execute_result",
          "data": {
            "text/plain": [
              "   Source  Target  Weight   Timestamp\n",
              "0       6       2       4  1289241912\n",
              "1       6       5       2  1289241942\n",
              "2       1      15       1  1289243140\n",
              "3       4       3       7  1289245277\n",
              "4      13      16       8  1289254254"
            ],
            "text/html": [
              "\n",
              "  <div id=\"df-7719224c-7969-4cb9-b145-30eac926521d\">\n",
              "    <div class=\"colab-df-container\">\n",
              "      <div>\n",
              "<style scoped>\n",
              "    .dataframe tbody tr th:only-of-type {\n",
              "        vertical-align: middle;\n",
              "    }\n",
              "\n",
              "    .dataframe tbody tr th {\n",
              "        vertical-align: top;\n",
              "    }\n",
              "\n",
              "    .dataframe thead th {\n",
              "        text-align: right;\n",
              "    }\n",
              "</style>\n",
              "<table border=\"1\" class=\"dataframe\">\n",
              "  <thead>\n",
              "    <tr style=\"text-align: right;\">\n",
              "      <th></th>\n",
              "      <th>Source</th>\n",
              "      <th>Target</th>\n",
              "      <th>Weight</th>\n",
              "      <th>Timestamp</th>\n",
              "    </tr>\n",
              "  </thead>\n",
              "  <tbody>\n",
              "    <tr>\n",
              "      <th>0</th>\n",
              "      <td>6</td>\n",
              "      <td>2</td>\n",
              "      <td>4</td>\n",
              "      <td>1289241912</td>\n",
              "    </tr>\n",
              "    <tr>\n",
              "      <th>1</th>\n",
              "      <td>6</td>\n",
              "      <td>5</td>\n",
              "      <td>2</td>\n",
              "      <td>1289241942</td>\n",
              "    </tr>\n",
              "    <tr>\n",
              "      <th>2</th>\n",
              "      <td>1</td>\n",
              "      <td>15</td>\n",
              "      <td>1</td>\n",
              "      <td>1289243140</td>\n",
              "    </tr>\n",
              "    <tr>\n",
              "      <th>3</th>\n",
              "      <td>4</td>\n",
              "      <td>3</td>\n",
              "      <td>7</td>\n",
              "      <td>1289245277</td>\n",
              "    </tr>\n",
              "    <tr>\n",
              "      <th>4</th>\n",
              "      <td>13</td>\n",
              "      <td>16</td>\n",
              "      <td>8</td>\n",
              "      <td>1289254254</td>\n",
              "    </tr>\n",
              "  </tbody>\n",
              "</table>\n",
              "</div>\n",
              "      <button class=\"colab-df-convert\" onclick=\"convertToInteractive('df-7719224c-7969-4cb9-b145-30eac926521d')\"\n",
              "              title=\"Convert this dataframe to an interactive table.\"\n",
              "              style=\"display:none;\">\n",
              "        \n",
              "  <svg xmlns=\"http://www.w3.org/2000/svg\" height=\"24px\"viewBox=\"0 0 24 24\"\n",
              "       width=\"24px\">\n",
              "    <path d=\"M0 0h24v24H0V0z\" fill=\"none\"/>\n",
              "    <path d=\"M18.56 5.44l.94 2.06.94-2.06 2.06-.94-2.06-.94-.94-2.06-.94 2.06-2.06.94zm-11 1L8.5 8.5l.94-2.06 2.06-.94-2.06-.94L8.5 2.5l-.94 2.06-2.06.94zm10 10l.94 2.06.94-2.06 2.06-.94-2.06-.94-.94-2.06-.94 2.06-2.06.94z\"/><path d=\"M17.41 7.96l-1.37-1.37c-.4-.4-.92-.59-1.43-.59-.52 0-1.04.2-1.43.59L10.3 9.45l-7.72 7.72c-.78.78-.78 2.05 0 2.83L4 21.41c.39.39.9.59 1.41.59.51 0 1.02-.2 1.41-.59l7.78-7.78 2.81-2.81c.8-.78.8-2.07 0-2.86zM5.41 20L4 18.59l7.72-7.72 1.47 1.35L5.41 20z\"/>\n",
              "  </svg>\n",
              "      </button>\n",
              "      \n",
              "  <style>\n",
              "    .colab-df-container {\n",
              "      display:flex;\n",
              "      flex-wrap:wrap;\n",
              "      gap: 12px;\n",
              "    }\n",
              "\n",
              "    .colab-df-convert {\n",
              "      background-color: #E8F0FE;\n",
              "      border: none;\n",
              "      border-radius: 50%;\n",
              "      cursor: pointer;\n",
              "      display: none;\n",
              "      fill: #1967D2;\n",
              "      height: 32px;\n",
              "      padding: 0 0 0 0;\n",
              "      width: 32px;\n",
              "    }\n",
              "\n",
              "    .colab-df-convert:hover {\n",
              "      background-color: #E2EBFA;\n",
              "      box-shadow: 0px 1px 2px rgba(60, 64, 67, 0.3), 0px 1px 3px 1px rgba(60, 64, 67, 0.15);\n",
              "      fill: #174EA6;\n",
              "    }\n",
              "\n",
              "    [theme=dark] .colab-df-convert {\n",
              "      background-color: #3B4455;\n",
              "      fill: #D2E3FC;\n",
              "    }\n",
              "\n",
              "    [theme=dark] .colab-df-convert:hover {\n",
              "      background-color: #434B5C;\n",
              "      box-shadow: 0px 1px 3px 1px rgba(0, 0, 0, 0.15);\n",
              "      filter: drop-shadow(0px 1px 2px rgba(0, 0, 0, 0.3));\n",
              "      fill: #FFFFFF;\n",
              "    }\n",
              "  </style>\n",
              "\n",
              "      <script>\n",
              "        const buttonEl =\n",
              "          document.querySelector('#df-7719224c-7969-4cb9-b145-30eac926521d button.colab-df-convert');\n",
              "        buttonEl.style.display =\n",
              "          google.colab.kernel.accessAllowed ? 'block' : 'none';\n",
              "\n",
              "        async function convertToInteractive(key) {\n",
              "          const element = document.querySelector('#df-7719224c-7969-4cb9-b145-30eac926521d');\n",
              "          const dataTable =\n",
              "            await google.colab.kernel.invokeFunction('convertToInteractive',\n",
              "                                                     [key], {});\n",
              "          if (!dataTable) return;\n",
              "\n",
              "          const docLinkHtml = 'Like what you see? Visit the ' +\n",
              "            '<a target=\"_blank\" href=https://colab.research.google.com/notebooks/data_table.ipynb>data table notebook</a>'\n",
              "            + ' to learn more about interactive tables.';\n",
              "          element.innerHTML = '';\n",
              "          dataTable['output_type'] = 'display_data';\n",
              "          await google.colab.output.renderOutput(dataTable, element);\n",
              "          const docLink = document.createElement('div');\n",
              "          docLink.innerHTML = docLinkHtml;\n",
              "          element.appendChild(docLink);\n",
              "        }\n",
              "      </script>\n",
              "    </div>\n",
              "  </div>\n",
              "  "
            ]
          },
          "metadata": {},
          "execution_count": 15
        }
      ],
      "source": [
        "#Normalizing the weights between the range of -1 to 1\n",
        "df[\"Weight\"] = df[\"Weight\"] - 11\n",
        "df.head(5)"
      ]
    },
    {
      "cell_type": "code",
      "execution_count": null,
      "id": "18d51bfc-2664-4f52-861d-b3140f9ce95b",
      "metadata": {
        "colab": {
          "base_uri": "https://localhost:8080/",
          "height": 206
        },
        "id": "18d51bfc-2664-4f52-861d-b3140f9ce95b",
        "outputId": "f0c8bed3-9bce-4f99-e574-a72418b2a49a"
      },
      "outputs": [
        {
          "output_type": "execute_result",
          "data": {
            "text/plain": [
              "   Source  Target  Weight   Timestamp\n",
              "0       6       2     0.4  1289241912\n",
              "1       6       5     0.2  1289241942\n",
              "2       1      15     0.1  1289243140\n",
              "3       4       3     0.7  1289245277\n",
              "4      13      16     0.8  1289254254"
            ],
            "text/html": [
              "\n",
              "  <div id=\"df-2efb1725-3b6b-4581-99a9-05125a1e8b0b\">\n",
              "    <div class=\"colab-df-container\">\n",
              "      <div>\n",
              "<style scoped>\n",
              "    .dataframe tbody tr th:only-of-type {\n",
              "        vertical-align: middle;\n",
              "    }\n",
              "\n",
              "    .dataframe tbody tr th {\n",
              "        vertical-align: top;\n",
              "    }\n",
              "\n",
              "    .dataframe thead th {\n",
              "        text-align: right;\n",
              "    }\n",
              "</style>\n",
              "<table border=\"1\" class=\"dataframe\">\n",
              "  <thead>\n",
              "    <tr style=\"text-align: right;\">\n",
              "      <th></th>\n",
              "      <th>Source</th>\n",
              "      <th>Target</th>\n",
              "      <th>Weight</th>\n",
              "      <th>Timestamp</th>\n",
              "    </tr>\n",
              "  </thead>\n",
              "  <tbody>\n",
              "    <tr>\n",
              "      <th>0</th>\n",
              "      <td>6</td>\n",
              "      <td>2</td>\n",
              "      <td>0.4</td>\n",
              "      <td>1289241912</td>\n",
              "    </tr>\n",
              "    <tr>\n",
              "      <th>1</th>\n",
              "      <td>6</td>\n",
              "      <td>5</td>\n",
              "      <td>0.2</td>\n",
              "      <td>1289241942</td>\n",
              "    </tr>\n",
              "    <tr>\n",
              "      <th>2</th>\n",
              "      <td>1</td>\n",
              "      <td>15</td>\n",
              "      <td>0.1</td>\n",
              "      <td>1289243140</td>\n",
              "    </tr>\n",
              "    <tr>\n",
              "      <th>3</th>\n",
              "      <td>4</td>\n",
              "      <td>3</td>\n",
              "      <td>0.7</td>\n",
              "      <td>1289245277</td>\n",
              "    </tr>\n",
              "    <tr>\n",
              "      <th>4</th>\n",
              "      <td>13</td>\n",
              "      <td>16</td>\n",
              "      <td>0.8</td>\n",
              "      <td>1289254254</td>\n",
              "    </tr>\n",
              "  </tbody>\n",
              "</table>\n",
              "</div>\n",
              "      <button class=\"colab-df-convert\" onclick=\"convertToInteractive('df-2efb1725-3b6b-4581-99a9-05125a1e8b0b')\"\n",
              "              title=\"Convert this dataframe to an interactive table.\"\n",
              "              style=\"display:none;\">\n",
              "        \n",
              "  <svg xmlns=\"http://www.w3.org/2000/svg\" height=\"24px\"viewBox=\"0 0 24 24\"\n",
              "       width=\"24px\">\n",
              "    <path d=\"M0 0h24v24H0V0z\" fill=\"none\"/>\n",
              "    <path d=\"M18.56 5.44l.94 2.06.94-2.06 2.06-.94-2.06-.94-.94-2.06-.94 2.06-2.06.94zm-11 1L8.5 8.5l.94-2.06 2.06-.94-2.06-.94L8.5 2.5l-.94 2.06-2.06.94zm10 10l.94 2.06.94-2.06 2.06-.94-2.06-.94-.94-2.06-.94 2.06-2.06.94z\"/><path d=\"M17.41 7.96l-1.37-1.37c-.4-.4-.92-.59-1.43-.59-.52 0-1.04.2-1.43.59L10.3 9.45l-7.72 7.72c-.78.78-.78 2.05 0 2.83L4 21.41c.39.39.9.59 1.41.59.51 0 1.02-.2 1.41-.59l7.78-7.78 2.81-2.81c.8-.78.8-2.07 0-2.86zM5.41 20L4 18.59l7.72-7.72 1.47 1.35L5.41 20z\"/>\n",
              "  </svg>\n",
              "      </button>\n",
              "      \n",
              "  <style>\n",
              "    .colab-df-container {\n",
              "      display:flex;\n",
              "      flex-wrap:wrap;\n",
              "      gap: 12px;\n",
              "    }\n",
              "\n",
              "    .colab-df-convert {\n",
              "      background-color: #E8F0FE;\n",
              "      border: none;\n",
              "      border-radius: 50%;\n",
              "      cursor: pointer;\n",
              "      display: none;\n",
              "      fill: #1967D2;\n",
              "      height: 32px;\n",
              "      padding: 0 0 0 0;\n",
              "      width: 32px;\n",
              "    }\n",
              "\n",
              "    .colab-df-convert:hover {\n",
              "      background-color: #E2EBFA;\n",
              "      box-shadow: 0px 1px 2px rgba(60, 64, 67, 0.3), 0px 1px 3px 1px rgba(60, 64, 67, 0.15);\n",
              "      fill: #174EA6;\n",
              "    }\n",
              "\n",
              "    [theme=dark] .colab-df-convert {\n",
              "      background-color: #3B4455;\n",
              "      fill: #D2E3FC;\n",
              "    }\n",
              "\n",
              "    [theme=dark] .colab-df-convert:hover {\n",
              "      background-color: #434B5C;\n",
              "      box-shadow: 0px 1px 3px 1px rgba(0, 0, 0, 0.15);\n",
              "      filter: drop-shadow(0px 1px 2px rgba(0, 0, 0, 0.3));\n",
              "      fill: #FFFFFF;\n",
              "    }\n",
              "  </style>\n",
              "\n",
              "      <script>\n",
              "        const buttonEl =\n",
              "          document.querySelector('#df-2efb1725-3b6b-4581-99a9-05125a1e8b0b button.colab-df-convert');\n",
              "        buttonEl.style.display =\n",
              "          google.colab.kernel.accessAllowed ? 'block' : 'none';\n",
              "\n",
              "        async function convertToInteractive(key) {\n",
              "          const element = document.querySelector('#df-2efb1725-3b6b-4581-99a9-05125a1e8b0b');\n",
              "          const dataTable =\n",
              "            await google.colab.kernel.invokeFunction('convertToInteractive',\n",
              "                                                     [key], {});\n",
              "          if (!dataTable) return;\n",
              "\n",
              "          const docLinkHtml = 'Like what you see? Visit the ' +\n",
              "            '<a target=\"_blank\" href=https://colab.research.google.com/notebooks/data_table.ipynb>data table notebook</a>'\n",
              "            + ' to learn more about interactive tables.';\n",
              "          element.innerHTML = '';\n",
              "          dataTable['output_type'] = 'display_data';\n",
              "          await google.colab.output.renderOutput(dataTable, element);\n",
              "          const docLink = document.createElement('div');\n",
              "          docLink.innerHTML = docLinkHtml;\n",
              "          element.appendChild(docLink);\n",
              "        }\n",
              "      </script>\n",
              "    </div>\n",
              "  </div>\n",
              "  "
            ]
          },
          "metadata": {},
          "execution_count": 16
        }
      ],
      "source": [
        "df[\"Weight\"] = df[\"Weight\"]/10\n",
        "df.head(5)"
      ]
    },
    {
      "cell_type": "code",
      "execution_count": null,
      "id": "1dbdd746-2ee7-4cf4-9558-f21e6666404f",
      "metadata": {
        "colab": {
          "base_uri": "https://localhost:8080/"
        },
        "id": "1dbdd746-2ee7-4cf4-9558-f21e6666404f",
        "outputId": "b8533be7-abaa-4470-e3bd-24e9f0824c84"
      },
      "outputs": [
        {
          "output_type": "stream",
          "name": "stdout",
          "text": [
            "5881\n",
            "Differences in fairness score and goodness score = 382.21, 0.00\n",
            "Differences in fairness score and goodness score = 34.47, 102.29\n",
            "Differences in fairness score and goodness score = 2.39, 6.97\n",
            "Differences in fairness score and goodness score = 0.39, 1.06\n",
            "Differences in fairness score and goodness score = 0.10, 0.24\n",
            "Differences in fairness score and goodness score = 0.03, 0.06\n",
            "Differences in fairness score and goodness score = 0.01, 0.02\n",
            "Differences in fairness score and goodness score = 0.00, 0.00\n",
            "Differences in fairness score and goodness score = 0.00, 0.00\n",
            "Differences in fairness score and goodness score = 0.00, 0.00\n",
            "Differences in fairness score and goodness score = 0.00, 0.00\n",
            "Differences in fairness score and goodness score = 0.00, 0.00\n",
            "Differences in fairness score and goodness score = 0.00, 0.00\n",
            "Differences in fairness score and goodness score = 0.00, 0.00\n",
            "Differences in fairness score and goodness score = 0.00, 0.00\n",
            "-----------\n"
          ]
        }
      ],
      "source": [
        "for ind in range(len(df)):\n",
        "    ## the weight should already be in the range of -1 to 1\n",
        "    G.add_edge(df[\"Source\"][ind], df[\"Target\"][ind], weight = df[\"Weight\"][ind]) #creation of weighted edges\n",
        "\n",
        "fairness, goodness = compute_fairness_goodness(G)\n",
        "dic = {}\n",
        "#print(list(fairness))\n",
        "dic['fairness'] = list(fairness)\n",
        "print('-----------')\n",
        "#print(list(goodness))\n",
        "dic['goodness'] = list(goodness)"
      ]
    },
    {
      "cell_type": "markdown",
      "source": [
        "## Implementation of Transaction"
      ],
      "metadata": {
        "id": "roL4bOCpRm0T"
      },
      "id": "roL4bOCpRm0T"
    },
    {
      "cell_type": "code",
      "execution_count": null,
      "id": "a03fcf29-90ff-437a-a27d-f169fb64770b",
      "metadata": {
        "id": "a03fcf29-90ff-437a-a27d-f169fb64770b"
      },
      "outputs": [],
      "source": [
        "def convert_to_csv():\n",
        "    fair_good = pd.DataFrame(columns=['Node', 'Fairness', 'Goodness'])\n",
        "    nodes = G.nodes()\n",
        "    for node in nodes:\n",
        "      dic = {}\n",
        "      dic['Node'] = int(node)\n",
        "      dic['Fairness'] = fairness[node]\n",
        "      dic['Goodness'] = goodness[node]\n",
        "      temp = pd.Series(dic.copy())\n",
        "      fair_good = pd.concat([fair_good, pd.DataFrame([temp], columns=temp.index)], axis=0).reset_index(drop=True)\n",
        "    fair_good[\"Node\"] = fair_good[\"Node\"].astype('int')\n",
        "    fair_good.to_csv('fair_and_good.csv')"
      ]
    },
    {
      "cell_type": "code",
      "execution_count": null,
      "id": "9dc89e24-8ec9-4195-a61d-5ea83ceab13b",
      "metadata": {
        "id": "9dc89e24-8ec9-4195-a61d-5ea83ceab13b"
      },
      "outputs": [],
      "source": [
        "from collections import defaultdict\n",
        "import matplotlib.pyplot as plt\n",
        "src = list(df['Source'])\n",
        "dest = list(df['Target'])"
      ]
    },
    {
      "cell_type": "code",
      "execution_count": null,
      "id": "3b32de5d-767a-4c0e-a77e-bd15761d2df3",
      "metadata": {
        "colab": {
          "base_uri": "https://localhost:8080/",
          "height": 206
        },
        "id": "3b32de5d-767a-4c0e-a77e-bd15761d2df3",
        "outputId": "9914bbd9-751d-4624-d129-1a81044fb6d4"
      },
      "outputs": [
        {
          "output_type": "execute_result",
          "data": {
            "text/plain": [
              "   Source  Target  Weight   Timestamp\n",
              "0       6       2     0.4  1289241912\n",
              "1       6       5     0.2  1289241942\n",
              "2       1      15     0.1  1289243140\n",
              "3       4       3     0.7  1289245277\n",
              "4      13      16     0.8  1289254254"
            ],
            "text/html": [
              "\n",
              "  <div id=\"df-250005fa-a5b0-497c-b3a0-82de4aeed605\">\n",
              "    <div class=\"colab-df-container\">\n",
              "      <div>\n",
              "<style scoped>\n",
              "    .dataframe tbody tr th:only-of-type {\n",
              "        vertical-align: middle;\n",
              "    }\n",
              "\n",
              "    .dataframe tbody tr th {\n",
              "        vertical-align: top;\n",
              "    }\n",
              "\n",
              "    .dataframe thead th {\n",
              "        text-align: right;\n",
              "    }\n",
              "</style>\n",
              "<table border=\"1\" class=\"dataframe\">\n",
              "  <thead>\n",
              "    <tr style=\"text-align: right;\">\n",
              "      <th></th>\n",
              "      <th>Source</th>\n",
              "      <th>Target</th>\n",
              "      <th>Weight</th>\n",
              "      <th>Timestamp</th>\n",
              "    </tr>\n",
              "  </thead>\n",
              "  <tbody>\n",
              "    <tr>\n",
              "      <th>0</th>\n",
              "      <td>6</td>\n",
              "      <td>2</td>\n",
              "      <td>0.4</td>\n",
              "      <td>1289241912</td>\n",
              "    </tr>\n",
              "    <tr>\n",
              "      <th>1</th>\n",
              "      <td>6</td>\n",
              "      <td>5</td>\n",
              "      <td>0.2</td>\n",
              "      <td>1289241942</td>\n",
              "    </tr>\n",
              "    <tr>\n",
              "      <th>2</th>\n",
              "      <td>1</td>\n",
              "      <td>15</td>\n",
              "      <td>0.1</td>\n",
              "      <td>1289243140</td>\n",
              "    </tr>\n",
              "    <tr>\n",
              "      <th>3</th>\n",
              "      <td>4</td>\n",
              "      <td>3</td>\n",
              "      <td>0.7</td>\n",
              "      <td>1289245277</td>\n",
              "    </tr>\n",
              "    <tr>\n",
              "      <th>4</th>\n",
              "      <td>13</td>\n",
              "      <td>16</td>\n",
              "      <td>0.8</td>\n",
              "      <td>1289254254</td>\n",
              "    </tr>\n",
              "  </tbody>\n",
              "</table>\n",
              "</div>\n",
              "      <button class=\"colab-df-convert\" onclick=\"convertToInteractive('df-250005fa-a5b0-497c-b3a0-82de4aeed605')\"\n",
              "              title=\"Convert this dataframe to an interactive table.\"\n",
              "              style=\"display:none;\">\n",
              "        \n",
              "  <svg xmlns=\"http://www.w3.org/2000/svg\" height=\"24px\"viewBox=\"0 0 24 24\"\n",
              "       width=\"24px\">\n",
              "    <path d=\"M0 0h24v24H0V0z\" fill=\"none\"/>\n",
              "    <path d=\"M18.56 5.44l.94 2.06.94-2.06 2.06-.94-2.06-.94-.94-2.06-.94 2.06-2.06.94zm-11 1L8.5 8.5l.94-2.06 2.06-.94-2.06-.94L8.5 2.5l-.94 2.06-2.06.94zm10 10l.94 2.06.94-2.06 2.06-.94-2.06-.94-.94-2.06-.94 2.06-2.06.94z\"/><path d=\"M17.41 7.96l-1.37-1.37c-.4-.4-.92-.59-1.43-.59-.52 0-1.04.2-1.43.59L10.3 9.45l-7.72 7.72c-.78.78-.78 2.05 0 2.83L4 21.41c.39.39.9.59 1.41.59.51 0 1.02-.2 1.41-.59l7.78-7.78 2.81-2.81c.8-.78.8-2.07 0-2.86zM5.41 20L4 18.59l7.72-7.72 1.47 1.35L5.41 20z\"/>\n",
              "  </svg>\n",
              "      </button>\n",
              "      \n",
              "  <style>\n",
              "    .colab-df-container {\n",
              "      display:flex;\n",
              "      flex-wrap:wrap;\n",
              "      gap: 12px;\n",
              "    }\n",
              "\n",
              "    .colab-df-convert {\n",
              "      background-color: #E8F0FE;\n",
              "      border: none;\n",
              "      border-radius: 50%;\n",
              "      cursor: pointer;\n",
              "      display: none;\n",
              "      fill: #1967D2;\n",
              "      height: 32px;\n",
              "      padding: 0 0 0 0;\n",
              "      width: 32px;\n",
              "    }\n",
              "\n",
              "    .colab-df-convert:hover {\n",
              "      background-color: #E2EBFA;\n",
              "      box-shadow: 0px 1px 2px rgba(60, 64, 67, 0.3), 0px 1px 3px 1px rgba(60, 64, 67, 0.15);\n",
              "      fill: #174EA6;\n",
              "    }\n",
              "\n",
              "    [theme=dark] .colab-df-convert {\n",
              "      background-color: #3B4455;\n",
              "      fill: #D2E3FC;\n",
              "    }\n",
              "\n",
              "    [theme=dark] .colab-df-convert:hover {\n",
              "      background-color: #434B5C;\n",
              "      box-shadow: 0px 1px 3px 1px rgba(0, 0, 0, 0.15);\n",
              "      filter: drop-shadow(0px 1px 2px rgba(0, 0, 0, 0.3));\n",
              "      fill: #FFFFFF;\n",
              "    }\n",
              "  </style>\n",
              "\n",
              "      <script>\n",
              "        const buttonEl =\n",
              "          document.querySelector('#df-250005fa-a5b0-497c-b3a0-82de4aeed605 button.colab-df-convert');\n",
              "        buttonEl.style.display =\n",
              "          google.colab.kernel.accessAllowed ? 'block' : 'none';\n",
              "\n",
              "        async function convertToInteractive(key) {\n",
              "          const element = document.querySelector('#df-250005fa-a5b0-497c-b3a0-82de4aeed605');\n",
              "          const dataTable =\n",
              "            await google.colab.kernel.invokeFunction('convertToInteractive',\n",
              "                                                     [key], {});\n",
              "          if (!dataTable) return;\n",
              "\n",
              "          const docLinkHtml = 'Like what you see? Visit the ' +\n",
              "            '<a target=\"_blank\" href=https://colab.research.google.com/notebooks/data_table.ipynb>data table notebook</a>'\n",
              "            + ' to learn more about interactive tables.';\n",
              "          element.innerHTML = '';\n",
              "          dataTable['output_type'] = 'display_data';\n",
              "          await google.colab.output.renderOutput(dataTable, element);\n",
              "          const docLink = document.createElement('div');\n",
              "          docLink.innerHTML = docLinkHtml;\n",
              "          element.appendChild(docLink);\n",
              "        }\n",
              "      </script>\n",
              "    </div>\n",
              "  </div>\n",
              "  "
            ]
          },
          "metadata": {},
          "execution_count": 20
        }
      ],
      "source": [
        "df.head()"
      ]
    },
    {
      "cell_type": "code",
      "execution_count": null,
      "id": "47c5808a-bc1e-4904-ae27-f189a5a542d2",
      "metadata": {
        "id": "47c5808a-bc1e-4904-ae27-f189a5a542d2"
      },
      "outputs": [],
      "source": [
        "class Graph:\n",
        "    def __init__(self) -> None:\n",
        "        self.graph = defaultdict(list)\n",
        "    def addEdge(self,u,v,w):\n",
        "        self.graph[u].append((v,w))"
      ]
    },
    {
      "cell_type": "code",
      "source": [
        "convert_to_csv()\n",
        "data = pd.read_csv('fair_and_good.csv')"
      ],
      "metadata": {
        "id": "pUgAy9x1Tow2"
      },
      "id": "pUgAy9x1Tow2",
      "execution_count": null,
      "outputs": []
    },
    {
      "cell_type": "code",
      "source": [
        "data = list(df.iloc[:,2])\n",
        "data"
      ],
      "metadata": {
        "id": "1Q2nCqSWWyZa"
      },
      "id": "1Q2nCqSWWyZa",
      "execution_count": null,
      "outputs": []
    },
    {
      "cell_type": "code",
      "execution_count": null,
      "id": "ddabd342-7bf4-45be-b276-7d2493b61dc5",
      "metadata": {
        "id": "ddabd342-7bf4-45be-b276-7d2493b61dc5"
      },
      "outputs": [],
      "source": [
        "g = Graph()\n",
        "k=0\n",
        "for i,j in zip(src,dest):\n",
        "    g.addEdge(str(i), str(j), data[k])\n",
        "    k+=1\n",
        "k=0"
      ]
    },
    {
      "cell_type": "code",
      "source": [
        "data = pd.read_csv('fair_and_good.csv')"
      ],
      "metadata": {
        "id": "PBDexOEQXs09"
      },
      "id": "PBDexOEQXs09",
      "execution_count": null,
      "outputs": []
    },
    {
      "cell_type": "code",
      "execution_count": null,
      "id": "23f00323-0a50-4296-aa91-31614c06645c",
      "metadata": {
        "id": "23f00323-0a50-4296-aa91-31614c06645c"
      },
      "outputs": [],
      "source": [
        "node = list(data['Node'])\n",
        "min1 = min(node)\n",
        "max1 = max(node)\n",
        "t1 = max(list(df['Timestamp']))"
      ]
    },
    {
      "cell_type": "code",
      "execution_count": null,
      "id": "25b7fbdb-705e-4404-bc0d-280b2ca53aef",
      "metadata": {
        "id": "25b7fbdb-705e-4404-bc0d-280b2ca53aef",
        "colab": {
          "base_uri": "https://localhost:8080/"
        },
        "outputId": "87117370-0237-457e-bbb3-9cc29c549f07"
      },
      "outputs": [
        {
          "name": "stdout",
          "output_type": "stream",
          "text": [
            "Enter the source node which wants to start the transaction: 191\n"
          ]
        }
      ],
      "source": [
        "a = int(input(\"Enter the source node which wants to start the transaction: \"))"
      ]
    },
    {
      "cell_type": "code",
      "execution_count": null,
      "id": "5f28c077-958f-46e9-81bc-8d2c7de1fbd5",
      "metadata": {
        "id": "5f28c077-958f-46e9-81bc-8d2c7de1fbd5"
      },
      "outputs": [],
      "source": [
        "flag = True\n",
        "while flag:\n",
        "    b = random.randint(min1,max1)   \n",
        "    ind = data[data['Node']==b].index.values\n",
        "    good1 = float(data.loc[ind,'Goodness'])\n",
        "    if good1 > 0:\n",
        "        flag = False"
      ]
    },
    {
      "cell_type": "code",
      "execution_count": null,
      "id": "d4badda1-34f4-46ce-b13e-dcd1c9ae48b2",
      "metadata": {
        "id": "d4badda1-34f4-46ce-b13e-dcd1c9ae48b2"
      },
      "outputs": [],
      "source": [
        "df = pd.read_csv('Bitcoin_OTC.csv')\n",
        "src = list(df['Source'])\n",
        "dest = list(df['Target'])"
      ]
    },
    {
      "cell_type": "code",
      "execution_count": null,
      "id": "3e9ed5e3-1bfc-4f52-8218-f9124cee4028",
      "metadata": {
        "id": "3e9ed5e3-1bfc-4f52-8218-f9124cee4028"
      },
      "outputs": [],
      "source": [
        "flag1 = False\n",
        "for i , j in zip(src,dest):\n",
        "    if not(i == a and j == b):\n",
        "        flag1 = True\n",
        "        break"
      ]
    },
    {
      "cell_type": "code",
      "execution_count": null,
      "id": "09bd09e5-780b-4110-b4d6-e758a587ea10",
      "metadata": {
        "id": "09bd09e5-780b-4110-b4d6-e758a587ea10",
        "outputId": "c6e95f56-35cd-4f8d-bc1f-08e23401e47c",
        "colab": {
          "base_uri": "https://localhost:8080/"
        }
      },
      "outputs": [
        {
          "output_type": "execute_result",
          "data": {
            "text/plain": [
              "True"
            ]
          },
          "metadata": {},
          "execution_count": 33
        }
      ],
      "source": [
        "flag1"
      ]
    },
    {
      "cell_type": "code",
      "execution_count": null,
      "id": "9b20b90e-a2dc-4fe4-85fd-d6950c067064",
      "metadata": {
        "id": "9b20b90e-a2dc-4fe4-85fd-d6950c067064",
        "outputId": "9a80a330-6f0c-40d7-8bc8-e58e77c5ca92",
        "colab": {
          "base_uri": "https://localhost:8080/",
          "height": 543
        }
      },
      "outputs": [
        {
          "output_type": "stream",
          "name": "stdout",
          "text": [
            "0.1602872805465949\n"
          ]
        },
        {
          "output_type": "display_data",
          "data": {
            "text/plain": [
              "<Figure size 432x288 with 1 Axes>"
            ],
            "image/png": "[encoded data removed]"
          },
          "metadata": {}
        },
        {
          "output_type": "stream",
          "name": "stdout",
          "text": [
            "5881\n",
            "Differences in fairness score and goodness score = 382.26, 0.00\n",
            "Differences in fairness score and goodness score = 34.49, 102.19\n",
            "Differences in fairness score and goodness score = 2.39, 6.94\n",
            "Differences in fairness score and goodness score = 0.39, 1.06\n",
            "Differences in fairness score and goodness score = 0.10, 0.24\n",
            "Differences in fairness score and goodness score = 0.03, 0.06\n",
            "Differences in fairness score and goodness score = 0.01, 0.02\n",
            "Differences in fairness score and goodness score = 0.00, 0.00\n",
            "Differences in fairness score and goodness score = 0.00, 0.00\n",
            "Differences in fairness score and goodness score = 0.00, 0.00\n",
            "Differences in fairness score and goodness score = 0.00, 0.00\n",
            "Differences in fairness score and goodness score = 0.00, 0.00\n",
            "Differences in fairness score and goodness score = 0.00, 0.00\n",
            "Differences in fairness score and goodness score = 0.00, 0.00\n",
            "Differences in fairness score and goodness score = 0.00, 0.00\n"
          ]
        }
      ],
      "source": [
        "if flag1 :\n",
        "    ind1 = data[data['Node']==a].index.values\n",
        "    fair = float(data.loc[ind1,'Fairness'])\n",
        "    ind2 = data[data['Node']==b].index.values\n",
        "    good = float(data.loc[ind1,'Goodness'])\n",
        "    weight = fair*good\n",
        "    g.addEdge(a,b, weight)\n",
        "    print(weight)\n",
        "    G.add_edge(a, b,weight = weight)\n",
        "    nx.draw_networkx(G)\n",
        "    plt.show()\n",
        "    fairness, goodness = compute_fairness_goodness(G)\n",
        "    convert_to_csv()   \n",
        "    t1+= 2\n",
        "    temp = { 'Source' : a,'Target' : b, 'Weight':weight,'Timestamp':t1}\n",
        "    df = df.append(temp, ignore_index = True)\n",
        "    df.to_csv('Bitcoin_OTC.csv')"
      ]
    }
  ],
  "metadata": {
    "kernelspec": {
      "display_name": "Python 3 (ipykernel)",
      "language": "python",
      "name": "python3"
    },
    "language_info": {
      "codemirror_mode": {
        "name": "ipython",
        "version": 3
      },
      "file_extension": ".py",
      "mimetype": "text/x-python",
      "name": "python",
      "nbconvert_exporter": "python",
      "pygments_lexer": "ipython3",
      "version": "3.10.6"
    },
    "colab": {
      "provenance": [],
      "collapsed_sections": []
    }
  },
  "nbformat": 4,
  "nbformat_minor": 5
}